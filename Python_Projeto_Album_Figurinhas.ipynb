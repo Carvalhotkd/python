{
  "nbformat": 4,
  "nbformat_minor": 0,
  "metadata": {
    "colab": {
      "name": "Python_Projeto_Album_Figurinhas.ipynb",
      "provenance": [],
      "toc_visible": true,
      "authorship_tag": "ABX9TyNLbC2wzxjTYAQzLLAeSXQk",
      "include_colab_link": true
    },
    "kernelspec": {
      "name": "python3",
      "display_name": "Python 3"
    },
    "language_info": {
      "name": "python"
    }
  },
  "cells": [
    {
      "cell_type": "markdown",
      "metadata": {
        "id": "view-in-github",
        "colab_type": "text"
      },
      "source": [
        "<a href=\"https://colab.research.google.com/github/Carvalhotkd/Python/blob/master/Python_Projeto_Album_Figurinhas.ipynb\" target=\"_parent\"><img src=\"https://colab.research.google.com/assets/colab-badge.svg\" alt=\"Open In Colab\"/></a>"
      ]
    },
    {
      "cell_type": "markdown",
      "metadata": {
        "id": "dVeNN2E-tQ1w"
      },
      "source": [
        "# Projeto Album de Figurinhas\n",
        "## Aqui vamos trabalhar os conceitos iniciais de Python"
      ]
    },
    {
      "cell_type": "markdown",
      "metadata": {
        "id": "teHzmg5HXOjM"
      },
      "source": [
        "# Projeto: Álbum One Piece 2021\n",
        "  - Total de cromos: **212**.\n",
        "  - Preço do livro ilustrado capa brochura: **R\\$ 10,00**.\n",
        "  - Envelope com 4 cromos: **R\\$ 4,00**.\n"
      ]
    },
    {
      "cell_type": "markdown",
      "metadata": {
        "id": "0BpY83-GX-rR"
      },
      "source": [
        "# SUPOSIÇÕES\n",
        "  1. Todas as figurinhas tem igual probabilidade de serem sorteadas.\n",
        "  2. Um pacotinho é comprado por vez até que se complete o álbum."
      ]
    },
    {
      "cell_type": "markdown",
      "metadata": {
        "id": "JzA80ujhYV50"
      },
      "source": [
        "# ALGORITMO\n",
        "  1. Comprar um pacotinho de figurinha(4 figurinhas cada, que podem ser repetidas);\n",
        "  2. Colar no álbum e verificar se o álbum está completo;\n",
        "  3. Caso esteja incompleto, comprar mais um pacotinho, caso contrário, terminar."
      ]
    },
    {
      "cell_type": "markdown",
      "metadata": {
        "id": "NV6rXXKLY2UO"
      },
      "source": [
        "# Perguntas\n",
        "  1. Qual o valor médio investido para completar o álbum nessas condições?\n",
        "  2. Quantos pacotes são necessários comprar, em média, para completar o álbum?\n",
        "  3. Qual é a distribuição empírica do valor investido para completar o álbum?\n",
        "  4. Qual a probabilidade de se gastar menos que R\\$ 1500,00 para completar o álbum?\n",
        "  5. Qual a probabilidade de se gastar mais do que a média para completar o álbum?\n",
        "  6. Qual é o intervalo de confiança de 95% para o gasto ao se completar o álbum?\n",
        "  7. Qual o valor médio gasto caso esteja completando o álbum com mais um amigo?\n",
        "  8. Qual o valor médio gasto caso se esteja completando o álbum com mais dois amigos?"
      ]
    },
    {
      "cell_type": "code",
      "metadata": {
        "id": "IkuM748TacUQ"
      },
      "source": [
        "import numpy as np"
      ],
      "execution_count": null,
      "outputs": []
    },
    {
      "cell_type": "code",
      "metadata": {
        "id": "SeGI16K2Z_I1"
      },
      "source": [
        "n_album = 212\n",
        "preco_pacote = 4\n",
        "cromos_por_pacote = 4\n",
        "preco_album = 10\n",
        "simulacoes = 1000"
      ],
      "execution_count": null,
      "outputs": []
    },
    {
      "cell_type": "code",
      "metadata": {
        "colab": {
          "base_uri": "https://localhost:8080/"
        },
        "id": "0cHx0L7aaUoX",
        "outputId": "7cc0eb86-7d5a-4983-b751-3aa75c32cc4b"
      },
      "source": [
        "album = np.zeros(n_album)\n",
        "album"
      ],
      "execution_count": null,
      "outputs": [
        {
          "output_type": "execute_result",
          "data": {
            "text/plain": [
              "array([0., 0., 0., 0., 0., 0., 0., 0., 0., 0., 0., 0., 0., 0., 0., 0., 0.,\n",
              "       0., 0., 0., 0., 0., 0., 0., 0., 0., 0., 0., 0., 0., 0., 0., 0., 0.,\n",
              "       0., 0., 0., 0., 0., 0., 0., 0., 0., 0., 0., 0., 0., 0., 0., 0., 0.,\n",
              "       0., 0., 0., 0., 0., 0., 0., 0., 0., 0., 0., 0., 0., 0., 0., 0., 0.,\n",
              "       0., 0., 0., 0., 0., 0., 0., 0., 0., 0., 0., 0., 0., 0., 0., 0., 0.,\n",
              "       0., 0., 0., 0., 0., 0., 0., 0., 0., 0., 0., 0., 0., 0., 0., 0., 0.,\n",
              "       0., 0., 0., 0., 0., 0., 0., 0., 0., 0., 0., 0., 0., 0., 0., 0., 0.,\n",
              "       0., 0., 0., 0., 0., 0., 0., 0., 0., 0., 0., 0., 0., 0., 0., 0., 0.,\n",
              "       0., 0., 0., 0., 0., 0., 0., 0., 0., 0., 0., 0., 0., 0., 0., 0., 0.,\n",
              "       0., 0., 0., 0., 0., 0., 0., 0., 0., 0., 0., 0., 0., 0., 0., 0., 0.,\n",
              "       0., 0., 0., 0., 0., 0., 0., 0., 0., 0., 0., 0., 0., 0., 0., 0., 0.,\n",
              "       0., 0., 0., 0., 0., 0., 0., 0., 0., 0., 0., 0., 0., 0., 0., 0., 0.,\n",
              "       0., 0., 0., 0., 0., 0., 0., 0.])"
            ]
          },
          "metadata": {
            "tags": []
          },
          "execution_count": 44
        }
      ]
    },
    {
      "cell_type": "code",
      "metadata": {
        "colab": {
          "base_uri": "https://localhost:8080/"
        },
        "id": "cMZHyap0baut",
        "outputId": "07de4649-cd04-4188-a65e-0a3bd02afba3"
      },
      "source": [
        "#Comprar pacote\n",
        "pacotinho = np.random.choice(np.arange(0, n_album), size=4)\n",
        "pacotinho"
      ],
      "execution_count": null,
      "outputs": [
        {
          "output_type": "execute_result",
          "data": {
            "text/plain": [
              "array([ 38, 161,  38,  77])"
            ]
          },
          "metadata": {
            "tags": []
          },
          "execution_count": 11
        }
      ]
    },
    {
      "cell_type": "code",
      "metadata": {
        "id": "M6oF2Gn0b9GH"
      },
      "source": [
        "#colar no álbum\n",
        "album[pacotinho[0]] += 1\n",
        "album[pacotinho[1]] += 1\n",
        "album[pacotinho[2]] += 1\n",
        "album[pacotinho[3]] += 1"
      ],
      "execution_count": null,
      "outputs": []
    },
    {
      "cell_type": "code",
      "metadata": {
        "id": "EMSOjYRydZBH"
      },
      "source": [
        "np.all(album >=1)"
      ],
      "execution_count": null,
      "outputs": []
    },
    {
      "cell_type": "code",
      "metadata": {
        "id": "fKZBPpT7de9o"
      },
      "source": [
        "album"
      ],
      "execution_count": null,
      "outputs": []
    },
    {
      "cell_type": "code",
      "metadata": {
        "id": "dRmWkmJndhls"
      },
      "source": [
        "def SimulaAlbum():\n",
        "    album = np.zeros(n_album) \n",
        "    pacotes = 0\n",
        "    while not np.all(album >= 1):\n",
        "        pacotinho = np.random.choice(range(n_album), 4)\n",
        "        pacotes += 1\n",
        "\n",
        "        for i in pacotinho:\n",
        "            album[i] += 1\n",
        " \n",
        "    valor_gasto = preco_album + preco_pacote * pacotes \n",
        "\n",
        "    return valor_gasto, pacotes"
      ],
      "execution_count": null,
      "outputs": []
    },
    {
      "cell_type": "code",
      "metadata": {
        "colab": {
          "base_uri": "https://localhost:8080/"
        },
        "id": "Hlr5hXGvfWd7",
        "outputId": "bad5771e-9e26-446e-da71-0e1d41be1840"
      },
      "source": [
        "SimulaAlbum()"
      ],
      "execution_count": null,
      "outputs": [
        {
          "output_type": "execute_result",
          "data": {
            "text/plain": [
              "(1122, 278)"
            ]
          },
          "metadata": {
            "tags": []
          },
          "execution_count": 52
        }
      ]
    },
    {
      "cell_type": "code",
      "metadata": {
        "colab": {
          "base_uri": "https://localhost:8080/"
        },
        "id": "dL-f01lMgGzp",
        "outputId": "d1701d88-1576-462a-8e60-c44e2b0c8539"
      },
      "source": [
        "S = 1000\n",
        "resultados = []\n",
        "\n",
        "for i in range(S):\n",
        "  pessoa = SimulaAlbum()\n",
        "  resultados.append(pessoa)\n",
        "  if i % 500 == 0:\n",
        "    print(i)\n",
        "sim = np.array(resultados).mean()"
      ],
      "execution_count": null,
      "outputs": [
        {
          "output_type": "stream",
          "text": [
            "0\n",
            "500\n"
          ],
          "name": "stdout"
        }
      ]
    },
    {
      "cell_type": "code",
      "metadata": {
        "colab": {
          "base_uri": "https://localhost:8080/"
        },
        "id": "Hka9xbH-o-yZ",
        "outputId": "fc860bce-8ad5-4274-92c6-063be62325a3"
      },
      "source": [
        "def Simulacao(simulacoes = 1000, silencio = False):\n",
        "    valores = []\n",
        "    for i in range(simulacoes):\n",
        "        valores.append(SimulaAlbum()[0])\n",
        "        if not silencio:\n",
        "            if (i+1) % 100 == 0:\n",
        "                print('Simulação: ', i+1, '/', simulacoes)\n",
        "    return valores\n",
        "\n",
        "sim = Simulacao(simulacoes)"
      ],
      "execution_count": null,
      "outputs": [
        {
          "output_type": "stream",
          "text": [
            "Simulação:  100 / 1000\n",
            "Simulação:  200 / 1000\n",
            "Simulação:  300 / 1000\n",
            "Simulação:  400 / 1000\n",
            "Simulação:  500 / 1000\n",
            "Simulação:  600 / 1000\n",
            "Simulação:  700 / 1000\n",
            "Simulação:  800 / 1000\n",
            "Simulação:  900 / 1000\n",
            "Simulação:  1000 / 1000\n"
          ],
          "name": "stdout"
        }
      ]
    },
    {
      "cell_type": "code",
      "metadata": {
        "colab": {
          "base_uri": "https://localhost:8080/"
        },
        "id": "9FdlcYWtoZ36",
        "outputId": "951ab8c9-22db-4da6-99bb-ba6a7b896d47"
      },
      "source": [
        "#questões 1 e 2\n",
        "print('O valor médio gasto foi:', round(np.mean(sim), 2))\n",
        "print('O numero de pacotes médio foi:', round((np.mean(sim) - preco_album)/preco_pacote, 2))"
      ],
      "execution_count": null,
      "outputs": [
        {
          "output_type": "stream",
          "text": [
            "O valor médio gasto foi: 1269.79\n",
            "O numero de pacotes médio foi: 314.95\n"
          ],
          "name": "stdout"
        }
      ]
    },
    {
      "cell_type": "code",
      "metadata": {
        "colab": {
          "base_uri": "https://localhost:8080/",
          "height": 283
        },
        "id": "-9Cbo_Fhodsv",
        "outputId": "5ec1a138-95cd-4ba4-c700-0c8724fc7448"
      },
      "source": [
        "#questão 3\n",
        "import matplotlib.pyplot as plt\n",
        "plt.hist(sim, bins = 20, density = True, color = 'royalblue', edgecolor = 'black')\n",
        "plt.title('Distribuição Empírica do Valor Gasto para Completar o Álbum')\n",
        "plt.show()"
      ],
      "execution_count": null,
      "outputs": [
        {
          "output_type": "display_data",
          "data": {
            "image/png": "[encoded data removed]",
            "text/plain": [
              "<Figure size 432x288 with 1 Axes>"
            ]
          },
          "metadata": {
            "tags": [],
            "needs_background": "light"
          }
        }
      ]
    },
    {
      "cell_type": "code",
      "metadata": {
        "colab": {
          "base_uri": "https://localhost:8080/"
        },
        "id": "Ny64Hkg7oqNa",
        "outputId": "41c628fb-50a1-47e8-ea72-89136fce09a6"
      },
      "source": [
        "# questoes 4 e 5\n",
        " \n",
        "prob1 = sum(np.array(sim) < 1500)/simulacoes\n",
        "prob2 = sum(np.array(sim) > np.array(sim).mean())/simulacoes\n",
        " \n",
        "print('A probabilidade de se gastar menos de 1500 é {:.2f}%'.format(prob1*100))\n",
        "print('A probabilidade de se gastar mais do que a média é {:.2f}%'.format(prob2*100))"
      ],
      "execution_count": null,
      "outputs": [
        {
          "output_type": "stream",
          "text": [
            "A probabilidade de se gastar menos de 1500 é 82.30%\n",
            "A probabilidade de se gastar mais do que a média é 43.00%\n"
          ],
          "name": "stdout"
        }
      ]
    },
    {
      "cell_type": "code",
      "metadata": {
        "colab": {
          "base_uri": "https://localhost:8080/"
        },
        "id": "NJ3tXRdCqP8w",
        "outputId": "9e4cee37-90cc-4428-f5d0-8e3e133fed25"
      },
      "source": [
        "# questao 6\n",
        "\n",
        "qts = np.quantile(sim, [0.025, 0.975])\n",
        "print('O intervalo de confiança de 95% para o gasto total é ({:.2f}, {:.2f})'.format(qts[0], qts[1]))"
      ],
      "execution_count": null,
      "outputs": [
        {
          "output_type": "stream",
          "text": [
            "O intervalo de confiança de 95% para o gasto total é (857.90, 2034.20)\n"
          ],
          "name": "stdout"
        }
      ]
    },
    {
      "cell_type": "markdown",
      "metadata": {
        "id": "4i1_oNV8qaIx"
      },
      "source": [
        "# E quando estamos trocando figurinhas na praça?\n",
        "Vamos ajustar a nossa função que simula o completamento de um álbum, para funcionar para uma quantidade variável de álbuns, representando assim uma estratégia de completar o álbum em grupo."
      ]
    },
    {
      "cell_type": "code",
      "metadata": {
        "colab": {
          "base_uri": "https://localhost:8080/"
        },
        "id": "9pn7joXMqf79",
        "outputId": "3a0b7a70-5fb1-4697-d5c9-9355b94baa30"
      },
      "source": [
        "\n",
        "# comprando figurinhas até completar o álbum\n",
        "def SimulaAlbum(qtde_albuns = 1):\n",
        "    album = np.zeros(n_album) \n",
        "    pacotes = 0\n",
        "    while not np.all(album >= qtde_albuns):\n",
        "        pacotinho = np.random.choice(range(n_album), 4)\n",
        "        pacotes += 1\n",
        "\n",
        "        for i in pacotinho:\n",
        "            album[i] += 1\n",
        " \n",
        "\n",
        "    valor_gasto = qtde_albuns*preco_album + preco_pacote * pacotes \n",
        "    valor_gasto_por_album = valor_gasto/qtde_albuns\n",
        "\n",
        "    return valor_gasto, pacotes, valor_gasto_por_album\n",
        "\n",
        "SimulaAlbum(2)"
      ],
      "execution_count": null,
      "outputs": [
        {
          "output_type": "execute_result",
          "data": {
            "text/plain": [
              "(1528, 377, 764.0)"
            ]
          },
          "metadata": {
            "tags": []
          },
          "execution_count": 58
        }
      ]
    },
    {
      "cell_type": "code",
      "metadata": {
        "colab": {
          "base_uri": "https://localhost:8080/"
        },
        "id": "HBRV62rYqkrR",
        "outputId": "7dae8ea5-c9c6-44cd-9199-ea1dcfd0ddf0"
      },
      "source": [
        "def Simulacao(qtde_albuns, simulacoes = 1000, silencio = False):\n",
        "    valores = []\n",
        "    for i in range(simulacoes):\n",
        "        valores.append(SimulaAlbum(qtde_albuns)[2])\n",
        "        if not silencio:\n",
        "            if (i+1) % 100 == 0:\n",
        "                print('Simulação: ', i+1, '/', simulacoes)\n",
        "    return valores\n",
        "\n",
        "sim = Simulacao(qtde_albuns = 2, simulacoes = 100)"
      ],
      "execution_count": null,
      "outputs": [
        {
          "output_type": "stream",
          "text": [
            "Simulação:  100 / 100\n"
          ],
          "name": "stdout"
        }
      ]
    },
    {
      "cell_type": "code",
      "metadata": {
        "colab": {
          "base_uri": "https://localhost:8080/"
        },
        "id": "GZl6ziKiqn7T",
        "outputId": "bd191b02-f3b3-4e3c-b3ca-9f1410dfb827"
      },
      "source": [
        "# questões 7 e 8\n",
        "\n",
        "sim2 = Simulacao(2, 100, silencio = True) \n",
        "c2 = np.array(sim2).mean() \n",
        "\n",
        "sim3 = Simulacao(3, 100, silencio = True) \n",
        "c3 = np.array(sim3).mean()  \n",
        "\n",
        "print('Custo médio entre 2 amigos:', round(c2, 2) )\n",
        "print('Custo médio entre 3 amigos:', round(c3, 2) )"
      ],
      "execution_count": null,
      "outputs": [
        {
          "output_type": "stream",
          "text": [
            "Custo médio entre 2 amigos: 887.94\n",
            "Custo médio entre 3 amigos: 717.6\n"
          ],
          "name": "stdout"
        }
      ]
    },
    {
      "cell_type": "code",
      "metadata": {
        "colab": {
          "base_uri": "https://localhost:8080/"
        },
        "id": "CvHPuM79qt5z",
        "outputId": "5bc0a549-fe24-407f-aa53-8a8c2e457735"
      },
      "source": [
        "import time\n",
        "def SimulacaoAmigos(amigos = 40, simulacoes = 10):\n",
        "    medias = []\n",
        "    amigos = list(range(1, amigos + 1, 1))\n",
        "    for i in amigos: \n",
        "        t = time.time()\n",
        "        aux = Simulacao(i, simulacoes, silencio = True)\n",
        "        tempo = round(time.time() - t, 2)\n",
        "        print('Tempo total de {}s para a simulação com {} amigo(s)'.format(tempo, i))\n",
        "        medias.append(np.array(aux).mean())\n",
        "    return amigos, medias\n",
        "\n",
        "sim_amigos = SimulacaoAmigos(amigos = 10, simulacoes = 5)"
      ],
      "execution_count": null,
      "outputs": [
        {
          "output_type": "stream",
          "text": [
            "Tempo total de 0.11s para a simulação com 1 amigo(s)\n",
            "Tempo total de 0.21s para a simulação com 2 amigo(s)\n",
            "Tempo total de 0.32s para a simulação com 3 amigo(s)\n",
            "Tempo total de 0.29s para a simulação com 4 amigo(s)\n",
            "Tempo total de 0.33s para a simulação com 5 amigo(s)\n",
            "Tempo total de 0.38s para a simulação com 6 amigo(s)\n",
            "Tempo total de 0.44s para a simulação com 7 amigo(s)\n",
            "Tempo total de 0.34s para a simulação com 8 amigo(s)\n",
            "Tempo total de 0.51s para a simulação com 9 amigo(s)\n",
            "Tempo total de 0.69s para a simulação com 10 amigo(s)\n"
          ],
          "name": "stdout"
        }
      ]
    },
    {
      "cell_type": "code",
      "metadata": {
        "colab": {
          "base_uri": "https://localhost:8080/",
          "height": 420
        },
        "id": "N_LaR8oMqy2O",
        "outputId": "18366d1d-2848-45b8-ff25-089f1cdd82b9"
      },
      "source": [
        "import math\n",
        "def GraficoCustoAmigos(simulacao):\n",
        "\n",
        "    minimo_possivel = math.ceil(n_album/cromos_por_pacote)*preco_pacote \n",
        "\n",
        "    plt.figure(figsize=(18, 6))\n",
        "    plt.bar(simulacao[0], simulacao[1], width = 0.5, color = 'royalblue')\n",
        "    plt.xticks(simulacao[0])\n",
        "    plt.axhline(y = minimo_possivel, linestyle = 'dashed', color = 'blue')\n",
        "    plt.title('Custo médio aproximado para\\n completar o álbum em função do tamanho\\n do grupo de pessoas trocando figurinhas')\n",
        "    plt.show()\n",
        "\n",
        "GraficoCustoAmigos(sim_amigos)"
      ],
      "execution_count": null,
      "outputs": [
        {
          "output_type": "display_data",
          "data": {
            "image/png": "[encoded data removed]",
            "text/plain": [
              "<Figure size 1296x432 with 1 Axes>"
            ]
          },
          "metadata": {
            "tags": [],
            "needs_background": "light"
          }
        }
      ]
    }
  ]
}