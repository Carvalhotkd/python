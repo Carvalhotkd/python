{
  "nbformat": 4,
  "nbformat_minor": 0,
  "metadata": {
    "colab": {
      "name": "lista exercicios guanabara 16 a 21.ipynb",
      "provenance": []
    },
    "kernelspec": {
      "name": "python3",
      "display_name": "Python 3"
    }
  },
  "cells": [
    {
      "cell_type": "markdown",
      "metadata": {
        "id": "bB8iAdkgDIN_",
        "colab_type": "text"
      },
      "source": [
        "ex016 - Crie um programa que leina um número real qualquer pelo teclado e mostre na tela a sua porção inteira."
      ]
    },
    {
      "cell_type": "code",
      "metadata": {
        "id": "FUb6pL9ZDWhQ",
        "colab_type": "code",
        "colab": {
          "base_uri": "https://localhost:8080/",
          "height": 51
        },
        "outputId": "89f447c0-d67f-48f1-c2a7-23f6e50f3ae3"
      },
      "source": [
        "import math\n",
        "num = float(input('Digite um valor: '))\n",
        "print(f'O valor digitado foi {num} e a sua porção inteira é {math.trunc(num)}')"
      ],
      "execution_count": 1,
      "outputs": [
        {
          "output_type": "stream",
          "text": [
            "Digite um valor: 5.68\n",
            "O valor digitado foi 5.68 e a sua porção inteira é 5\n"
          ],
          "name": "stdout"
        }
      ]
    },
    {
      "cell_type": "markdown",
      "metadata": {
        "id": "1_kx1u6TE1Ja",
        "colab_type": "text"
      },
      "source": [
        "ex017 - Faça um programa que leia o comprimento do cateto oposto e do cateto adjacente de um triângulo retângulo. Calcule e mostre o comprimento da hipotenusa."
      ]
    },
    {
      "cell_type": "code",
      "metadata": {
        "id": "MYYh6_uGFDYk",
        "colab_type": "code",
        "colab": {
          "base_uri": "https://localhost:8080/",
          "height": 68
        },
        "outputId": "8d80e950-eab9-4db1-9ba3-9befbbbbb430"
      },
      "source": [
        "import math\n",
        "co = float(input('Comprimento do cateto oposto: '))\n",
        "ca = float(input('Comprimento do cateto adjacente: '))\n",
        "print(f'A hipotenusa vai medir {math.hypot(co, ca):.2f}')"
      ],
      "execution_count": 3,
      "outputs": [
        {
          "output_type": "stream",
          "text": [
            "Comprimento do cateto oposto: 3.5\n",
            "Comprimento do cateto adjacente: 4.75\n",
            "A hipotenusa vai medir 5.90\n"
          ],
          "name": "stdout"
        }
      ]
    },
    {
      "cell_type": "markdown",
      "metadata": {
        "id": "jUuiw_VDLZLb",
        "colab_type": "text"
      },
      "source": [
        "ex018 - Faça um programa qualquer que leia um angulo e mostre na tela o valor do seno, cosseno e tangente desse angulo."
      ]
    },
    {
      "cell_type": "code",
      "metadata": {
        "id": "TQzi1u0zLm1N",
        "colab_type": "code",
        "colab": {
          "base_uri": "https://localhost:8080/",
          "height": 85
        },
        "outputId": "d44b6c61-7a86-4bad-90e6-cba750acfc46"
      },
      "source": [
        "import math\n",
        "angulo = float(input('Digite o angulo que deseja: '))\n",
        "seno = math.sin(math.radians(angulo))\n",
        "cosseno = math.cos(math.radians(angulo))\n",
        "tangente = math.tan(math.radians(angulo))\n",
        "print(f'O angulo de {angulo} tem o SENO de {seno:.2f}')\n",
        "print(f'O angulo de {angulo} tem o COSSENO de {cosseno:.2f}')\n",
        "print(f'O angulo de {angulo} tem a TANGENTE de {tangente:.2f}')"
      ],
      "execution_count": 4,
      "outputs": [
        {
          "output_type": "stream",
          "text": [
            "Digite o angulo que deseja: 30\n",
            "O angulo de 30.0 tem o SENO de 0.50\n",
            "O angulo de 30.0 tem o COSSENO de 0.87\n",
            "O angulo de 30.0 tem a TANGENTE de 0.58\n"
          ],
          "name": "stdout"
        }
      ]
    },
    {
      "cell_type": "markdown",
      "metadata": {
        "id": "bNxN7GAAVV-B",
        "colab_type": "text"
      },
      "source": [
        "ex019 - Um professor quer sortear um dos seus quatro alunos para apagar o quadro. Faça um programa que ajude ele, lendo o nome dos alunos e escrevendo na tela o nome do escolhido."
      ]
    },
    {
      "cell_type": "code",
      "metadata": {
        "id": "eVl6W4n1Vj36",
        "colab_type": "code",
        "colab": {
          "base_uri": "https://localhost:8080/",
          "height": 102
        },
        "outputId": "29b28fbb-af12-46ef-a33e-3a8fca6885d0"
      },
      "source": [
        "from random import choice\n",
        "n1 = str(input('Primeiro aluno: '))\n",
        "n2 = str(input('Segundo aluno: '))\n",
        "n3 = str(input('Terceiro aluno: '))\n",
        "n4 = str(input('Quarto aluno: '))\n",
        "lista = [n1, n2, n3, n4]\n",
        "escolhido = choice(lista)\n",
        "print(f'O aluno escolhido foi {escolhido}')"
      ],
      "execution_count": 5,
      "outputs": [
        {
          "output_type": "stream",
          "text": [
            "Primeiro aluno: andre\n",
            "Segundo aluno: ana\n",
            "Terceiro aluno: bia\n",
            "Quarto aluno: lisa\n",
            "O aluno escolhido foi ana\n"
          ],
          "name": "stdout"
        }
      ]
    },
    {
      "cell_type": "markdown",
      "metadata": {
        "id": "SZOMufLiWe2B",
        "colab_type": "text"
      },
      "source": [
        "ex020 - O mesmo professor do desafio 19 quer sortear a rodem de apresentação de trabalho dos alunos, Faça um programa que leia o nome dos quatro alunos e mostre a ordem sorteada."
      ]
    },
    {
      "cell_type": "code",
      "metadata": {
        "id": "0MZI7OIsW4hs",
        "colab_type": "code",
        "colab": {
          "base_uri": "https://localhost:8080/",
          "height": 119
        },
        "outputId": "dba9137a-a2aa-4c20-d9ba-ed11fbfa24f5"
      },
      "source": [
        "from random import shuffle\n",
        "n1 = str(input('Primeiro aluno: '))\n",
        "n2 = str(input('Segundo aluno: '))\n",
        "n3 = str(input('Terceiro aluno: '))\n",
        "n4 = str(input('Quarto aluno: '))\n",
        "lista = [n1, n2, n3, n4]\n",
        "shuffle(lista)\n",
        "print('A ordem de apresentação será: ')\n",
        "print(lista)"
      ],
      "execution_count": 6,
      "outputs": [
        {
          "output_type": "stream",
          "text": [
            "Primeiro aluno: ana\n",
            "Segundo aluno: lisa\n",
            "Terceiro aluno: lia\n",
            "Quarto aluno: bia\n",
            "A ordem de apresentação será: \n",
            "['lisa', 'ana', 'lia', 'bia']\n"
          ],
          "name": "stdout"
        }
      ]
    },
    {
      "cell_type": "markdown",
      "metadata": {
        "id": "ltwe5D9SXiQQ",
        "colab_type": "text"
      },
      "source": [
        "ex021 - Faça um programa em Python que abra e reproduza o áudio de um arquivo MP3"
      ]
    },
    {
      "cell_type": "code",
      "metadata": {
        "id": "l8KEveNEX4Ly",
        "colab_type": "code",
        "colab": {}
      },
      "source": [
        "''' \n",
        "O arquivo de audio deve estar na mesma pasta do programa\n",
        "'''\n",
        "import pygame\n",
        "pygame.init()\n",
        "pygame.mixer.music.load() #load('nome do arquivo mp3 com a extensão exemplo.mp3')\n",
        "pygame.mixer.music.play()\n",
        "pygame.event.wait()\n"
      ],
      "execution_count": null,
      "outputs": []
    }
  ]
}