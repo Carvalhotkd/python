{
 "cells": [
  {
   "cell_type": "markdown",
   "metadata": {},
   "source": [
    "Python é uma linguagem interpretada, clara e de fácil leitura e bastante expressiva."
   ]
  },
  {
   "cell_type": "markdown",
   "metadata": {},
   "source": [
    "código fonte(m.py) -> byte code (mpyc) -> runtime(PVM)"
   ]
  },
  {
   "cell_type": "markdown",
   "metadata": {},
   "source": [
    "Basicamente, existem 3 modos de executar programas em Python:\n",
    "- Modo shell\n",
    "- Modo script(arquivos com extensão .py)\n",
    "- Modo interativo(Jupyter Notebook)"
   ]
  },
  {
   "cell_type": "markdown",
   "metadata": {},
   "source": [
    "A indentação é importante (1 tab ou 4 spaces)"
   ]
  },
  {
   "cell_type": "raw",
   "metadata": {},
   "source": [
    "print(nível 1) # primeiro nível hierárquico\n",
    "\n",
    "if(True):\n",
    "    print(nível 2) # segundo nível hierárquico"
   ]
  },
  {
   "cell_type": "markdown",
   "metadata": {},
   "source": [
    "A indentação faz parte da sintaxe em Python"
   ]
  },
  {
   "cell_type": "markdown",
   "metadata": {},
   "source": [
    "Seja consistente. Use tab ou espaços, não misture os dois."
   ]
  },
  {
   "cell_type": "markdown",
   "metadata": {},
   "source": [
    "## Comentários em Python"
   ]
  },
  {
   "cell_type": "raw",
   "metadata": {},
   "source": [
    "Começãm com o caracter # ou 3 aspas duplas \"\"\"...\"\"\"\n",
    "\n",
    "#isso é um comentário em uma única linha\n",
    "\n",
    "\"\"\"\n",
    "isso é um comentário\n",
    "em mais de uma linha\n",
    "\"\"\""
   ]
  },
  {
   "cell_type": "markdown",
   "metadata": {},
   "source": [
    "## Dicas:\n",
    "\n",
    "- clareza é importante. Mantenha seu código limpo e organizado.\n",
    "- código esparso é melhor que código denso.\n",
    "- sempre documente seu código.\n",
    "- siga os padrões não para criar complexidade, mas para manter a regra.\n",
    "- Erros nunca serão silenciosos, a menso que propositalmente.\n",
    "- simples é melhor que complexo e complexo é melhor que complicado.\n",
    "- não se sinta obrgado a cricar classes sem uma boa razão."
   ]
  },
  {
   "cell_type": "markdown",
   "metadata": {},
   "source": [
    "## Números e Operações Matemáticas"
   ]
  },
  {
   "cell_type": "markdown",
   "metadata": {},
   "source": [
    "Python possui dois tipos de números principais:\n",
    "int -> números inteiros, positivos ou negativos (-7, 7).\n",
    "float -> números fracionários, positivos ou negativos(-7.1, 7.1)."
   ]
  },
  {
   "cell_type": "markdown",
   "metadata": {},
   "source": [
    "Podemos usar a função type(), para saber qual é o tipo do número."
   ]
  },
  {
   "cell_type": "markdown",
   "metadata": {},
   "source": [
    "Podemos usar as funções int() e float() para converter números."
   ]
  },
  {
   "cell_type": "markdown",
   "metadata": {},
   "source": [
    "pyhton tem várias funções Built in (funções internas), como as funções de conversão mostrada acima."
   ]
  },
  {
   "cell_type": "markdown",
   "metadata": {},
   "source": [
    "## Variáveis e Operadores"
   ]
  },
  {
   "cell_type": "markdown",
   "metadata": {},
   "source": [
    "As variáveis são usadas em nosso código Python para armazenar valores que queremos usar mais tarde.\n",
    "São espaços em memória que armazenam valores."
   ]
  },
  {
   "cell_type": "markdown",
   "metadata": {},
   "source": [
    "Por exemplo, nós podemos armazenar o valor 10 na variável b."
   ]
  },
  {
   "cell_type": "markdown",
   "metadata": {},
   "source": [
    "b = 10"
   ]
  },
  {
   "cell_type": "markdown",
   "metadata": {},
   "source": [
    "O sinal de igual atribui o valor à direita(10) à variável do lado esquerdo (b). Você pode sobreescrever uma variável com um novo valor sempre que quiser. A variável assumirá o novo valor."
   ]
  },
  {
   "cell_type": "markdown",
   "metadata": {},
   "source": [
    "A funço print() em Python irá imprimir valores na tela. Por exemplo."
   ]
  },
  {
   "cell_type": "markdown",
   "metadata": {},
   "source": [
    "print(10) -> imprime na tela o valor 10"
   ]
  },
  {
   "cell_type": "markdown",
   "metadata": {},
   "source": [
    "print(b)-> imprime na tela o valor da variável b"
   ]
  },
  {
   "cell_type": "markdown",
   "metadata": {},
   "source": [
    "Tudo que é impresso aparece na tela de saída do Python"
   ]
  },
  {
   "cell_type": "code",
   "execution_count": null,
   "metadata": {},
   "outputs": [],
   "source": [
    "'texto'."
   ]
  }
 ],
 "metadata": {
  "kernelspec": {
   "display_name": "Python 3",
   "language": "python",
   "name": "python3"
  },
  "language_info": {
   "codemirror_mode": {
    "name": "ipython",
    "version": 3
   },
   "file_extension": ".py",
   "mimetype": "text/x-python",
   "name": "python",
   "nbconvert_exporter": "python",
   "pygments_lexer": "ipython3",
   "version": "3.7.6"
  }
 },
 "nbformat": 4,
 "nbformat_minor": 4
}
